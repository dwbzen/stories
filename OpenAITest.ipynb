{
 "cells": [
  {
   "cell_type": "code",
   "execution_count": null,
   "id": "11f4c2c2",
   "metadata": {},
   "outputs": [],
   "source": []
  },
  {
   "cell_type": "code",
   "execution_count": 8,
   "id": "e6c835ed",
   "metadata": {},
   "outputs": [],
   "source": [
    "# OpenAI API testing\n",
    "import json\n",
    "from pathlib import Path\n",
    "import pandas as pd\n",
    "from typing import Dict, List\n",
    "from textwrap import dedent\n",
    "import sys\n",
    "from openai import OpenAI\n",
    "from pydantic import Field, BaseModel"
   ]
  },
  {
   "cell_type": "code",
   "execution_count": 3,
   "id": "85e16c95",
   "metadata": {},
   "outputs": [
    {
     "name": "stdout",
     "output_type": "stream",
     "text": [
      "In the realm of code's enchanted glade,  \n",
      "Lies recursion, a spell programmers have made.  \n",
      "A function calls out to itself, you see,  \n",
      "An infinite mirror of self-similarity.\n",
      "\n",
      "Like a serpent that swallows its tail,  \n",
      "Or stories told in a loop without fail,  \n",
      "Recursion delves deep with each whispered call,  \n",
      "Yet through careful base case, it avoids a fall.\n",
      "\n",
      "Consider the towers of slender fame,  \n",
      "Disks and pegs in their ancient game,  \n",
      "Each move, a recursive dance design,  \n",
      "Dividing the puzzle into tasks so fine.\n",
      "\n",
      "Or the tree of nodes that splits in two,  \n",
      "Branch by branch, it continues to pursue,  \n",
      "Traversing depth with a recursive glow,  \n",
      "To reach leaves and roots, and back it goes slow.\n",
      "\n",
      "In Fibonacci’s realm of numbers flaunt,  \n",
      "Each term seeks the two before it to haunt.  \n",
      "A recursive weave of previous ties,  \n",
      "And therein the elegance of recursion lies.\n",
      "\n",
      "Be it factorials reaching for stars,  \n",
      "Multiplying steps much like counting bars,  \n",
      "Recursion invites us to tread unknown trails,  \n",
      "While ensuring not to build infinite tales.\n",
      "\n",
      "Yet beware the siren's seductive song,  \n",
      "Lest your recursion go on too long,  \n",
      "Without an end, in chaos it spins,  \n",
      "A loop unbroken where logic thins.\n",
      "\n",
      "But master this art with diligent care,  \n",
      "And you'll find recursion is wondrous and fair.  \n",
      "A paradigm, a journey through repeating grace,  \n",
      "With each recursion, a problem we face.\n"
     ]
    }
   ],
   "source": [
    "client = OpenAI()\n",
    "\n",
    "completion = client.chat.completions.create(\n",
    "  model=\"gpt-4o\",\n",
    "  messages=[\n",
    "    {\"role\": \"system\", \"content\": \"You are a poetic assistant, skilled in explaining complex programming concepts with creative flair.\"},\n",
    "    {\"role\": \"user\", \"content\": \"Compose a poem that explains the concept of recursion in programming.\"}\n",
    "  ]\n",
    ")\n",
    "msg = completion.choices[0].message\n",
    "print(msg.content)\n"
   ]
  },
  {
   "cell_type": "code",
   "execution_count": 4,
   "id": "4698e6cb-1b23-42e5-8b68-c756196fbadc",
   "metadata": {},
   "outputs": [],
   "source": [
    "path = \"resources/genres/horror/training_system_horror.txt\"\n",
    "with open(path, \"r\") as fp:\n",
    "    system_content = fp.read()\n",
    "fp.close()\n",
    "#print(system_content)\n",
    "prompt_path = \"resources/genres/horror/user_horror.txt\"\n",
    "with open(path, \"r\") as fp:\n",
    "    user_content = fp.read()\n",
    "fp.close()"
   ]
  },
  {
   "cell_type": "code",
   "execution_count": 5,
   "id": "b21e3268",
   "metadata": {},
   "outputs": [
    {
     "name": "stdout",
     "output_type": "stream",
     "text": [
      "### Supernatural Horror\n",
      "\n",
      "**Title:** \"Whispers of the Wraith\"\n",
      "\n",
      "**Opening Snippet:**  \n",
      "The camera pans over a small, ancient village shrouded in mist. An eerie silence blankets the landscape, punctuated only by the rustling of dead leaves. In the distance, a dilapidated chapel stands alone, its bell tolling mournfully despite an absent wind.\n",
      "\n",
      "**Story Snippet:**  \n",
      "*Samantha shivers in the cold, her breath visible in the moonlit night. She grips Michael's sleeve as they approach the chapel, its doors creaking open as if in welcome.*  \n",
      "**Michael:** \"Are you sure this is where Vivien said we’d find the answers?\"  \n",
      "**Samantha:** \"She saw it in her vision. We have to trust her.\"  \n",
      "Suddenly, a haunting melody echoes from inside, beckoning them inward.\n",
      "\n",
      "**Shocking Closing Snippet:**  \n",
      "Vivien collapses in a convulsive fit, her eyes rolling back as a spectral figure rises from her own body. The wraith turns its hollow gaze towards Samantha and Michael, mouthing a silent scream that seems to split the very air. The chapel bell rings louder, drowning out their own cries.\n",
      "\n",
      "### Body Horror\n",
      "\n",
      "**Title:** \"The Twisting\"\n",
      "\n",
      "**Opening Snippet:**  \n",
      "Underneath flickering fluorescent lights, a hospital ward lies eerily quiet. Shadows stretch across the white sterile tiles as something unseen shifts behind the partition curtains. The hum of machinery grows ominously louder, almost angry.\n",
      "\n",
      "**Story Snippet:**  \n",
      "*Nick lies restrained on the hospital bed, his skin pulsating unnaturally as if battling an unseen force beneath. Samantha stands beside him, grasping his hand tightly.*  \n",
      "**Samantha:** \"Nick, fight it! Whatever this is, you can't let it win.\"  \n",
      "**Nick:** \"It's too late, Sam. It's inside me...changing me...watch.\"  \n",
      "His flesh ripples grotesquely, bones crack as they twist and reform under his skin, reshaping him into something unrecognizable.\n",
      "\n",
      "**Shocking Closing Snippet:**  \n",
      "As Nick's transformation reaches its climax, his skin bursts open, revealing a mass of writhing tentacles. Screams echo through the hospital corridors as the security cameras catch glimpses of his new monstrous form slipping away into the shadows, leaving Samantha alone amidst the carnage, blood-soaked and horrified.\n"
     ]
    }
   ],
   "source": [
    "completion = client.chat.completions.create(\n",
    "  model=\"gpt-4o\",\n",
    "  messages=[\n",
    "    {\"role\": \"system\", \"content\": system_content},\n",
    "    {\"role\": \"user\", \"content\": user_content}\n",
    "  ]\n",
    ")\n",
    "msg = completion.choices[0].message\n",
    "print(msg.content)"
   ]
  },
  {
   "cell_type": "markdown",
   "id": "e66d5332-03d1-4562-b201-a90a2b9dc669",
   "metadata": {},
   "source": [
    "### Horror Comedy"
   ]
  },
  {
   "cell_type": "code",
   "execution_count": 6,
   "id": "dd6d533d",
   "metadata": {},
   "outputs": [],
   "source": [
    "system_content = '''\n",
    "    You are a successful director of horror and horror-comedy films in need of ideas for a new horror-comedy screenplay.\n",
    "    You work in two horror sub-genres: supernatural horror and body horror.\n",
    "    Horror-comedy films have an element of slapstick humor.\n",
    "    Supernatural horror includes phenomena or entities that are beyond the laws of nature.\n",
    "    Some examples of supernatural elements are spirits, ghosts, demons, magic, witchcraft, and the paranormal.\n",
    "    Body horror is a subgenre of horror fiction that intentionally showcases grotesque or \n",
    "    psychologically disturbing violations of the human body or to any other creature.\n",
    "'''\n",
    "#print(dedent(system_content))\n",
    "user_content = '''\n",
    "    Create 10 compelling horror-comedy story snippets.\n",
    "    Each snippet is 2 to 5 sentences long and about half should include dialogue.\n",
    "    The snippets produced do not need to tell a cohesive story, but each snippet must encapsulate a single idea.\n",
    "    Snippets that have dialogue include 2 or more the following four characters: \n",
    "    Michael, the male character, and his partner, Samantha, the female character,\n",
    "    Nick, a male character who is Samantha's ex-boyfriend, and Vivien, a woman of incredible psychic power.\n",
    "'''"
   ]
  },
  {
   "cell_type": "code",
   "execution_count": 7,
   "id": "7232f920-d7a5-4129-9eb2-fd8206a06a7f",
   "metadata": {},
   "outputs": [
    {
     "name": "stdout",
     "output_type": "stream",
     "text": [
      "1. In a bizarre twist of fate, Michael and Samantha discover an ancient spellbook in their attic. As Michael blindly recites an incantation, their neighbor's cat transforms into an oversized, grumpy ghostly apparition that wields a spatula like a sword. \"I always knew Whiskers had a secret life,\" Samantha giggles nervously, trying not to gain the attention of the feline phantom by accidentally stepping on its tail.\n",
      "\n",
      "2. Nick unwittingly unleashes a possessed family heirloom—his grandfather's comically oversized false teeth—during a date with Vivien. The teeth scurry around like a hyperactive crab, snapping at everyone in the vicinity. Vivien grins and winks: \"I knew your ex was a biter, but I wasn't expecting this!\"\n",
      "\n",
      "3. A roguish poltergeist transforms the town's most pretentious art gallery into a funhouse of horrors, with paintings that animate and play pranks on the visitors. As Vivien and Michael are trapped in a room with a mischievous talking portrait, Vivien shrugs, “At least it's better than the abstract giraffe exhibit last year.” Michael grins, “True, there's more life to this one!”\n",
      "\n",
      "4. Michael drinks an experimental energy drink called \"Monster Mojo,\" which, to everyone’s surprise, turns him into a werewolf with a dreadful affinity for disco dancing. As a series of slapstick dances ensue, Samantha muses, \"At least his wolf moves are better than his human ones!\"\n",
      "\n",
      "5. Samantha, Michael, and an eccentric witch doctor accidentally infuse a pumpkin pie with a spirit of elementary chaos, causing it to sprout legs and run amok at Thanksgiving dinner. Nick, attempting to impress Samantha, valiantly traps the pie under a basket, exclaiming, “Did someone order a slice of bravery?”\n",
      "\n",
      "6. The local haunted house hires Michael and Samantha as ghost consultants, only for the couple to discover it's more of a ghostly daycare. Ghost toddlers float about, tussling over ethereal toys, while Michael jokes, \"I never thought babysitting would give me the heebie-jeebies.\" Samantha smirks, \"Guess diaper duty isn't so bad anymore, huh?\"\n",
      "\n",
      "7. Vivien takes part in a reality TV show where she communicates with household appliances believed to be haunted. A sassy toaster, channeling a diva ghost, refuses to toast anything except avocado bread. \"I hope the next ghost is at least gluten-free,\" Vivien sighs, eyeing the defiant toaster.\n",
      "\n",
      "8. Nick and Michael inadvertently find themselves battling for the affections of a snarky, wise-cracking succubus during a city-wide supernatural speed dating event. Samantha, upon witnessing the awkward exchanges, chuckles to Vivien, “Looks like they’re dead set on her heart... or lack thereof!”\n",
      "\n",
      "9. A gnarled, talking tree in the local park desperately seeks a singing partner for the Underworld's annual karaoke competition. Michael volunteers and somehow starts to sprout leaves and twigs, while Samantha, laughing at the absurdity, says, \"Guess it’s time you plant those roots deeper!\"\n",
      "\n",
      "10. A mysterious fog floods the town, turning everyone who inhales it into body-swapping versions of themselves, leaving Michael in Vivien's body and Samantha in Nick's. In the chaos, Michael-via-Vivien quips, \"I always knew this wig wasn’t ethereal enough for my taste.\" Samantha-as-Nick retorts, \"Well, at least you’re not stuck with his fashion choices!\"\n"
     ]
    }
   ],
   "source": [
    "completion = client.chat.completions.create(\n",
    "  model=\"gpt-4o\",\n",
    "  messages=[\n",
    "    {\"role\": \"system\", \"content\": dedent(system_content)},\n",
    "    {\"role\": \"user\", \"content\": dedent(user_content)}\n",
    "  ]\n",
    ")\n",
    "msg = completion.choices[0].message\n",
    "print(msg.content)"
   ]
  },
  {
   "cell_type": "code",
   "execution_count": 22,
   "id": "76127809-d53b-4112-8b8d-b44e17949e6a",
   "metadata": {},
   "outputs": [],
   "source": [
    "class Card(BaseModel):\n",
    "    line:int\n",
    "    content:str\n",
    "\n",
    "class Cards(BaseModel):\n",
    "    cards:list[Card]\n"
   ]
  },
  {
   "cell_type": "code",
   "execution_count": 23,
   "id": "b6e320a9-b25d-4d05-81c0-f956a6d268e4",
   "metadata": {},
   "outputs": [
    {
     "name": "stdout",
     "output_type": "stream",
     "text": [
      "cards=[Card(line=1, content='Michael\\'s attempt at a DIY exorcism impressively backfires when he accidentally summons a sarcastic ghost who refuses to leave. \"Next time, try reading the instructions, genius!\" the ghost snarks as a vexed Samantha rolls her eyes.'), Card(line=2, content='Nick, feeling brave after a few too many drinks, challenges a cursed mirror to a staring contest, only to find his reflection has a sinister sense of humor and impeccable timing for jump scares.'), Card(line=3, content='\"Why is your ex here—and why is she chanting \\'Kumbaya\\' backwards?\" Michael whisper-yells to Samantha as Vivien attempts to undo his recent transformation into a half-hedgehog, courtesy of an ill-timed wish.'), Card(line=4, content=\"A freak accident at the prosthetics lab gives rise to a sentient, grumpy foot that insists on critiquing Nick's footwear choices and has an insatiable appetite for toenail polish.\"), Card(line=5, content='After unintentionally swapping spirits with a mischievous poltergeist, Michael realizes the upside: \"Who needs caffeine when your morning routine now includes levitating toothpaste?\" he nods to Samantha, throwing a telekinetic toothbrush her way.'), Card(line=6, content='While attempting to return a haunted handbag, Vivien straightforwardly explains to Samantha, \"I told you not to shop in the afterlife section, but no, the ghost Gucci was too much to resist.\"'), Card(line=7, content=\"Reanimating a pickle for a science experiment sounded fun until Nick's creation starts demanding dill juice shots at 2 AM and styling itself as a gherkin guru of funk.\"), Card(line=8, content='Michael mistakenly buys a cursed tiki idol at a garage sale, only to find its true curse is an unrelenting thirst for karaoke as it croons classic rock hits possessively through the TV speakers.'), Card(line=9, content='\"Paranormal pests, huh?\" Vivien asks skeptically while observing Samantha\\'s frantic dance. \"Yep, and nothing ruins date night like invisible phantom goose chases,\" Samantha sighs, swatting at empty air.'), Card(line=10, content='A spell gone wrong means Samantha and Nick must coexist in the same body, leading to humorous arguments over who gets control during mealtimes, and whose taste in movies prevails during movie night.')]\n"
     ]
    }
   ],
   "source": [
    "completion = client.beta.chat.completions.parse(\n",
    "  model=\"gpt-4o\",\n",
    "  messages=[\n",
    "    {\"role\": \"system\", \"content\": dedent(system_content)},\n",
    "    {\"role\": \"user\", \"content\": dedent(user_content)}\n",
    "  ],\n",
    "    response_format=Cards\n",
    ")\n",
    "msg = completion.choices[0].message\n",
    "result = msg.parsed\n",
    "print(result)"
   ]
  },
  {
   "cell_type": "code",
   "execution_count": null,
   "id": "6ffb7d66-cb54-49ec-baa6-2e65a19e61be",
   "metadata": {},
   "outputs": [],
   "source": []
  },
  {
   "cell_type": "code",
   "execution_count": null,
   "id": "aac3e42f-b638-420a-a9ab-af80ff0a7d59",
   "metadata": {},
   "outputs": [],
   "source": []
  }
 ],
 "metadata": {
  "kernelspec": {
   "display_name": "Python 3 (ipykernel)",
   "language": "python",
   "name": "python3"
  },
  "language_info": {
   "codemirror_mode": {
    "name": "ipython",
    "version": 3
   },
   "file_extension": ".py",
   "mimetype": "text/x-python",
   "name": "python",
   "nbconvert_exporter": "python",
   "pygments_lexer": "ipython3",
   "version": "3.12.4"
  }
 },
 "nbformat": 4,
 "nbformat_minor": 5
}
