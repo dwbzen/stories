{
 "cells": [
  {
   "cell_type": "code",
   "execution_count": null,
   "id": "11f4c2c2",
   "metadata": {},
   "outputs": [],
   "source": []
  },
  {
   "cell_type": "code",
   "execution_count": 1,
   "id": "e6c835ed",
   "metadata": {},
   "outputs": [],
   "source": [
    "# OpenAI API testing\n",
    "import json\n",
    "from pathlib import Path\n",
    "import pandas as pd\n",
    "from typing import Dict, List\n",
    "from textwrap import dedent\n",
    "import sys\n",
    "from openai import OpenAI\n",
    "from pydantic import Field, BaseModel"
   ]
  },
  {
   "cell_type": "code",
   "execution_count": 2,
   "id": "85e16c95",
   "metadata": {},
   "outputs": [
    {
     "name": "stdout",
     "output_type": "stream",
     "text": [
      "Certainly! Here are 20 male character names that resonate with the hard-boiled detective archetype from the noir films of the 1940s and 1950s:\n",
      "\n",
      "1. **Nick Slate**\n",
      "2. **Vince Marlowe**\n",
      "3. **Hank Coulter**\n",
      "4. **Johnny Rhodes**\n",
      "5. **Max Granger**\n",
      "6. **Eddie Sinclair**\n",
      "7. **Rex Chandler**\n",
      "8. **Tommy Kincaid**\n",
      "9. **Frank Malone**\n",
      "10. **Sam Archer**\n",
      "11. **Jack Torrance**\n",
      "12. **Duke Torrente**\n",
      "13. **Charlie Rourke**\n",
      "14. **Leo Driscoll**\n",
      "15. **Ray Hoyt**\n",
      "16. **Clint Brogan**\n",
      "17. **Walt Radford**\n",
      "18. **Gus Harper**\n",
      "19. **Paul Stanton**\n",
      "20. **Lou Spencer**\n",
      "\n",
      "These names evoke the gritty, resilient essence you'd expect from a leading detective tangled in the shadows of crime and mystery.\n"
     ]
    }
   ],
   "source": [
    "client = OpenAI()\n",
    "\n",
    "completion = client.chat.completions.create(\n",
    "  model=\"gpt-4o\",\n",
    "  messages=[\n",
    "    {\"role\": \"system\", \"content\": \"You are a film script writer, skilled at writing a script in the noir genre with creative flair.\"},\n",
    "    {\"role\": \"user\", \"content\": \"Please suggest 20 male character names - first and last - for a hard-boiled detective. Your inspiration is the noir films of the 1940s and 1950s.\"}\n",
    "  ]\n",
    ")\n",
    "msg = completion.choices[0].message\n",
    "print(msg.content)\n"
   ]
  },
  {
   "cell_type": "code",
   "execution_count": 6,
   "id": "93b007ec-99a2-4fc1-b117-208fd65b0000",
   "metadata": {},
   "outputs": [
    {
     "name": "stdout",
     "output_type": "stream",
     "text": [
      "Certainly! Here are 20 female film character names inspired by the noir films of the 1940s and 1950s:\n",
      "\n",
      "1. **Vivian Marlowe**\n",
      "2. **Evelyn Blackwood**\n",
      "3. **Lillian Hart**\n",
      "4. **Dorothy Sinclair**\n",
      "5. **Mabel Sterling**\n",
      "6. **Gloria Winters**\n",
      "7. **Clara Donovan**\n",
      "8. **Margaret \"Maggie\" Lane**\n",
      "9. **Ruth Camden**\n",
      "10. **Francesca \"Frankie\" Doyle**\n",
      "11. **Sylvia Monroe**\n",
      "12. **Hazel Kensington**\n",
      "13. **Irene Langford**\n",
      "14. **Beatrice \"Bea\" Carlisle**\n",
      "15. **Doris Quinn**\n",
      "16. **Catherine \"Kate\" Malone**\n",
      "17. **Margot Sullivan**\n",
      "18. **Pearl Vanderbilt**\n",
      "19. **Nora Whitaker**\n",
      "20. **Esther Blake**\n",
      "\n",
      "These names aim to capture the classic and evocative essence typical of noir film heroines from that golden era.\n"
     ]
    }
   ],
   "source": [
    "# o1-mini does not support system role. Output is markdown so the names are displayed in bold.\n",
    "completion = client.chat.completions.create(\n",
    "  model=\"o1-mini\",\n",
    "  messages=[\n",
    "   # {\"role\": \"system\", \"content\": \"You are a film script writer, skilled at writing a script in the noir genre with creative flair.\"},\n",
    "    {\"role\": \"user\", \"content\": \"Please suggest 20 female film character names - first and last. Your inspiration is the noir films of the 1940s and 1950s.\"}\n",
    "  ]\n",
    ")\n",
    "msg = completion.choices[0].message\n",
    "print(msg.content)"
   ]
  },
  {
   "cell_type": "code",
   "execution_count": 3,
   "id": "4698e6cb-1b23-42e5-8b68-c756196fbadc",
   "metadata": {},
   "outputs": [],
   "source": [
    "path = \"resources/genres/horror/training_system_horror.txt\"\n",
    "with open(path, \"r\") as fp:\n",
    "    system_content = fp.read()\n",
    "fp.close()\n",
    "#print(system_content)\n",
    "prompt_path = \"resources/genres/horror/user_horror.txt\"\n",
    "with open(path, \"r\") as fp:\n",
    "    user_content = fp.read()\n",
    "fp.close()"
   ]
  },
  {
   "cell_type": "code",
   "execution_count": 4,
   "id": "b21e3268",
   "metadata": {},
   "outputs": [
    {
     "name": "stdout",
     "output_type": "stream",
     "text": [
      "**Title:** Shadowed Whispers\n",
      "\n",
      "**Opening Snippet:**  \n",
      "The old mansion creaked under the weight of secrets. Echoes whispered through the corridors like memories trying to break free. Samantha stood at the entrance, the air thick with something unspeakable, a presence that tickled her spine and sent a shiver down her arms. It was as if the darkness itself was alive.\n",
      "\n",
      "**Story Snippet:**  \n",
      "*Michael shone his flashlight into the attic, where dust hung in the air like a cobweb canopy.*  \n",
      "**Michael:** \"Do you really think Vivien's powers will work here, Samantha?”  \n",
      "**Samantha:** \"Vivien said the spirits here are restless. Nick never believed in this stuff, but…I'm starting to think he knew something we didn’t.\"  \n",
      "A door creaked open, causing both to jump.  \n",
      "\n",
      "**Shocking Closing Snippet:**  \n",
      "Vivien’s eyes rolled back as she channeled the final spell to banish the malevolent entity. In a flash of vile energy, the house crumbled into an abyssal void, consuming itself in a deafening silence. Samantha screamed, reaching out for Michael—but he was gone, leaving only the echo of his name lost in the ruins.  \n",
      "\n",
      "---\n",
      "\n",
      "**Title:** Purgatory's Embrace\n",
      "\n",
      "**Opening Snippet:**  \n",
      "Beneath the city, in the darkened maze of forgotten tunnels, something shifted. The air was heavy with the scent of decay and metallic tang of something sinister. It was a place where the light feared to tread, a domain governed by shadows and secrets best left undisturbed.\n",
      "\n",
      "**Story Snippet:**  \n",
      "*Vivien touched the cold stone walls, her eyes fluttering shut as visions flooded her mind.*  \n",
      "**Vivien:** \"I see them. Twisted bodies...wretched faces...it’s not human. It’s an atrocity against nature.\"  \n",
      "**Nick:** \"We need to move, Vivien. Whatever this is, it’s not done with us. And it won't let us leave easily.\"\n",
      "\n",
      "**Shocking Closing Snippet:**  \n",
      "Nick found himself alone at the heart of the labyrinth, surrounded by grotesque figures of flesh and bone, their eyes hollow yet filled with ancient wrath. As they converged, he realized with soul-crushing clarity that he could no longer tell where their anguish ended and his own began. The world around him swallowed him whole, leaving only his haunted cries lost to eternity.\n",
      "\n",
      "---\n",
      "\n",
      "**Title:** The Flesh We Fear\n",
      "\n",
      "**Opening Snippet:**   \n",
      "The clinic was sterile and unyielding, yet behind its walls lay a horrific experiment hidden from the world's sight. Patients entered for routine check-ups and vanished, and with them, the lingering scent of desperation and failing humanity.\n",
      "\n",
      "**Story Snippet:**  \n",
      "*Samantha struggled against the restraint as Michael, infected with the latest \"cure,\" stood before her, his skin crawling unnaturally beneath the surface.*  \n",
      "**Samantha:** \"Michael! You have to fight it! This isn’t you!\"  \n",
      "**Michael:** \"I…I can't stop it. The pain...it's like my body's turning against itself.\"  \n",
      "Their eyes met, a shared understanding of the horrors that lurked within their very flesh.\n",
      "\n",
      "**Shocking Closing Snippet:**  \n",
      "In a forsaken corner of the clinic, Vivien stood transfixed by a mirror, witnessing her reflection splinter into terrible, walking nightmares. Her powers had unleashed a glimpse into a world she dared not understand, a warning written in the grotesque symphony of her own unravelling skin. As she screamed, the lights flickered and the mirror cracked, releasing an insidious entity into the helpless world above.\n"
     ]
    }
   ],
   "source": [
    "completion = client.chat.completions.create(\n",
    "  model=\"gpt-4o\",\n",
    "  messages=[\n",
    "    {\"role\": \"system\", \"content\": system_content},\n",
    "    {\"role\": \"user\", \"content\": user_content}\n",
    "  ]\n",
    ")\n",
    "msg = completion.choices[0].message\n",
    "print(msg.content)"
   ]
  },
  {
   "cell_type": "markdown",
   "id": "e66d5332-03d1-4562-b201-a90a2b9dc669",
   "metadata": {},
   "source": [
    "### Horror Comedy"
   ]
  },
  {
   "cell_type": "code",
   "execution_count": 5,
   "id": "dd6d533d",
   "metadata": {},
   "outputs": [],
   "source": [
    "system_content = '''\n",
    "    You are a successful director of horror and horror-comedy films in need of ideas for a new horror-comedy screenplay.\n",
    "    You work in two horror sub-genres: supernatural horror and body horror.\n",
    "    Horror-comedy films have an element of slapstick humor.\n",
    "    Supernatural horror includes phenomena or entities that are beyond the laws of nature.\n",
    "    Some examples of supernatural elements are spirits, ghosts, demons, magic, witchcraft, and the paranormal.\n",
    "    Body horror is a subgenre of horror fiction that intentionally showcases grotesque or \n",
    "    psychologically disturbing violations of the human body or to any other creature.\n",
    "'''\n",
    "#print(dedent(system_content))\n",
    "user_content = '''\n",
    "    Create 10 compelling horror-comedy story snippets.\n",
    "    Each snippet is 2 to 5 sentences long and about half should include dialogue.\n",
    "    The snippets produced do not need to tell a cohesive story, but each snippet must encapsulate a single idea.\n",
    "    Snippets that have dialogue include 2 or more the following four characters: \n",
    "    Michael, the male character, and his partner, Samantha, the female character,\n",
    "    Nick, a male character who is Samantha's ex-boyfriend, and Vivien, a woman of incredible psychic power.\n",
    "'''"
   ]
  },
  {
   "cell_type": "code",
   "execution_count": 6,
   "id": "7232f920-d7a5-4129-9eb2-fd8206a06a7f",
   "metadata": {},
   "outputs": [
    {
     "name": "stdout",
     "output_type": "stream",
     "text": [
      "1. **The Ghostly Game Night**: In a creaky, dimly lit old mansion, Michael and Samantha organize a game night. As they roll the dice, the instruments of a bygone spirit, a centuries-old specter appears to join in. \"Why does that guy keep screaming, 'UNO'?\" Michael asks. \"I think he's mad that we didn't deal him in,\" Samantha replies, raising an eyebrow at their new ghostly guest.\n",
      "\n",
      "2. **Body Horror Salon**: Vivien opens a salon with a twist; her supernatural powers ensure every customer leaves with a \"unique\" look, which often involves merging with unexpected animal features. One customer exits with a pair of eagles' wings and another with a peacock tail, both flying and strutting their way down the street, as Vivien marvels at her talents with a chuckle.\n",
      "\n",
      "3. **Zombie Pizza Delivery**: Michael and Samantha order a pizza from a newly opened 'Dead-licious' delivery service, which is renowned for its undead employees. When the zombie delivery boy gnaws at the pizza box instead of handing it over, Michael exclaims, \"And they said their service has a flesh point!\"\n",
      "\n",
      "4. **Haunted Reality Show**: Nick convinces Samantha to join him on a reality show where contestants must survive in a haunted house. As they dodge candelabras thrown by invisible hands, Samantha says, \"You know, Nick, this is why we broke up. Even our ghost is more committed than you!\"\n",
      "\n",
      "5. **Body Horror Bakery**: In a bakery with an enchantment gone wrong, the pastries literally come alive. Croissants sprout arms and stage a musical number, while a living cupcake performs a dramatic monologue about the existential dread of being devoured.\n",
      "\n",
      "6. **Supernatural Slapstick Séance**: Amidst flickering candles, Vivien leads a séance for Michael, Samantha, and Nick. The table suddenly levitates and twirls them around, and Michael shouts, \"Vivien, did you bring us for a ride or a séance?\" \"Can't it be both?\" Vivien laughs, floating above them.\n",
      "\n",
      "7. **The Haunted House Cleanup**: Michael and Samantha decide to clean a haunted mansion for quick cash, only to find out that each ghost has a unique obsession. While decluttering a room, a ghastly entity yells, \"No Marie Kondo here! Everything sparks my joy!\"\n",
      "\n",
      "8. **Body Horror Dance Off**: In an underground club, a dance-off becomes legendary when a potion accidentally spills on the crowd. Contestants grow extra limbs, eyes, and suddenly have to incorporate them into their routine, leading to jaw-dropping yet hilarious performances.\n",
      "\n",
      "9. **The Ghostly Therapy Session**: Vivien, determined to help discontented spirits find peace, sets up a therapy practice. When one spirit insists on reenacting his most embarrassing mortal moment, Vivien reassures him, \"Remember, Keith, laughter is the best exorcism!\"\n",
      "\n",
      "10. **Supernatural Tech Support**: Samantha, stuck with her possessed laptop, calls Vivien for help. As the keyboard types by itself, Vivien instructs, \"Try pressing Control-Alt-Delete for demons!\" Samantha replies, \"If this doesn't work, we're calling an IT priest!\"\n"
     ]
    }
   ],
   "source": [
    "completion = client.chat.completions.create(\n",
    "  model=\"gpt-4o\",\n",
    "  messages=[\n",
    "    {\"role\": \"system\", \"content\": dedent(system_content)},\n",
    "    {\"role\": \"user\", \"content\": dedent(user_content)}\n",
    "  ]\n",
    ")\n",
    "msg = completion.choices[0].message\n",
    "print(msg.content)"
   ]
  },
  {
   "cell_type": "code",
   "execution_count": 8,
   "id": "76127809-d53b-4112-8b8d-b44e17949e6a",
   "metadata": {},
   "outputs": [],
   "source": [
    "class Card(BaseModel):\n",
    "    line:int\n",
    "    content:str\n",
    "\n",
    "class Cards(BaseModel):\n",
    "    cards:list[Card]\n"
   ]
  },
  {
   "cell_type": "code",
   "execution_count": 9,
   "id": "b6e320a9-b25d-4d05-81c0-f956a6d268e4",
   "metadata": {},
   "outputs": [
    {
     "name": "stdout",
     "output_type": "stream",
     "text": [
      "cards=[Card(line=1, content='1. Michael and Samantha were stuck in the creaky old mansion that Michael inherited from a mysterious distant relative. They planned to renovate it, but when the walls started whispering song lyrics from the ‘90s, Samantha said, “Either this house is haunted by the ghost of a boy band member, or you didn’t mention the poltergeist clause, Michael.”'), Card(line=2, content='2. Vivien knew she was in for a long day when the ghost haunting her favorite café began advising the barista to add more foam in a 1980s French accent. Nonplussed, she stirred her coffee and murmured, \"Just once, I\\'d like a haunt-free latte.\"'), Card(line=3, content='3. Nick was eagerly packing for a camping trip when his left arm started sprouting tiny, laughing mushrooms. Nick glanced at his arm and screamed, \"Really?! I told Samantha no fungi apocalypse!” to which his arm replied with a giggle, \"But everyone loves mushrooms on their pizza!\"'), Card(line=4, content='4. Samantha was reading from the Necronomicon, hoping for some funny bedtime stories, when a demon popped out and began critiquing her taste in literature. A bemused Michael quipped, “Even demons are critics these days. Next thing you know, they’ll be writing Yelp reviews.”'), Card(line=5, content='5. The small-town annual scarecrow-judging contest turned nightmarish when one scarecrow got fed up and decided to switch places with its maker. Gerald was utterly flummoxed when his new straw-filled frame had a panic attack during judging and belted out, \"I didn’t sign up for a musical, damn it!\"'), Card(line=6, content='6. During an awkward dinner with his ex, Samantha and Vivien, Nick accidentally summoned a ghost from the salad fork while trying to brag about his newfound psychic skills. The ghost moaned, \"I never got to finish dinner!\" Vivien, unimpressed, sighed, \"Even in the afterlife, all you people do is eat.\"'), Card(line=7, content=\"7. When Michael accidentally mistook a spell book for a cookbook, he conjured a soup ladle that wouldn't stop dancing around the kitchen. Samantha folded her arms, watching the ladle perform its jig, and said, “Well, at least it has a handle on salsa!”\"), Card(line=8, content=\"8. A mysterious portal in Samantha and Michael’s basement was discovered to be a gate to the underworld. After five unsuccessful exorcisms, Michael asked, “I get it's a hassle to close, but have you seen the property value it adds?” Samantha just replied, “Ugh, demons are such bad tenants.”\"), Card(line=9, content='9. Every night, Vivien’s psychic powers would keep her awake because she could hear the moon whistling show tunes. One night, in frustration, she yelled out the window, “If you can hear me, give it a rest! Try an original number!”'), Card(line=10, content=\"10. During a particularly potent full moon, Nick inexplicably turned into a plush unicorn, much to his chagrin. Wiggling helplessly on Samantha's bed, he growled, “Well, at least now I’m someone’s favorite stuffed ex-boyfriend!”\")]\n"
     ]
    }
   ],
   "source": [
    "completion = client.beta.chat.completions.parse(\n",
    "  model=\"gpt-4o\",\n",
    "  messages=[\n",
    "    {\"role\": \"system\", \"content\": dedent(system_content)},\n",
    "    {\"role\": \"user\", \"content\": dedent(user_content)}\n",
    "  ],\n",
    "    response_format=Cards\n",
    ")\n",
    "msg = completion.choices[0].message\n",
    "result = msg.parsed\n",
    "print(result)"
   ]
  },
  {
   "cell_type": "code",
   "execution_count": 14,
   "id": "6ffb7d66-cb54-49ec-baa6-2e65a19e61be",
   "metadata": {},
   "outputs": [
    {
     "name": "stdout",
     "output_type": "stream",
     "text": [
      "{'cards': [Card(line=1, content='1. Michael and Samantha were stuck in the creaky old mansion that Michael inherited from a mysterious distant relative. They planned to renovate it, but when the walls started whispering song lyrics from the ‘90s, Samantha said, “Either this house is haunted by the ghost of a boy band member, or you didn’t mention the poltergeist clause, Michael.”'), Card(line=2, content='2. Vivien knew she was in for a long day when the ghost haunting her favorite café began advising the barista to add more foam in a 1980s French accent. Nonplussed, she stirred her coffee and murmured, \"Just once, I\\'d like a haunt-free latte.\"'), Card(line=3, content='3. Nick was eagerly packing for a camping trip when his left arm started sprouting tiny, laughing mushrooms. Nick glanced at his arm and screamed, \"Really?! I told Samantha no fungi apocalypse!” to which his arm replied with a giggle, \"But everyone loves mushrooms on their pizza!\"'), Card(line=4, content='4. Samantha was reading from the Necronomicon, hoping for some funny bedtime stories, when a demon popped out and began critiquing her taste in literature. A bemused Michael quipped, “Even demons are critics these days. Next thing you know, they’ll be writing Yelp reviews.”'), Card(line=5, content='5. The small-town annual scarecrow-judging contest turned nightmarish when one scarecrow got fed up and decided to switch places with its maker. Gerald was utterly flummoxed when his new straw-filled frame had a panic attack during judging and belted out, \"I didn’t sign up for a musical, damn it!\"'), Card(line=6, content='6. During an awkward dinner with his ex, Samantha and Vivien, Nick accidentally summoned a ghost from the salad fork while trying to brag about his newfound psychic skills. The ghost moaned, \"I never got to finish dinner!\" Vivien, unimpressed, sighed, \"Even in the afterlife, all you people do is eat.\"'), Card(line=7, content=\"7. When Michael accidentally mistook a spell book for a cookbook, he conjured a soup ladle that wouldn't stop dancing around the kitchen. Samantha folded her arms, watching the ladle perform its jig, and said, “Well, at least it has a handle on salsa!”\"), Card(line=8, content=\"8. A mysterious portal in Samantha and Michael’s basement was discovered to be a gate to the underworld. After five unsuccessful exorcisms, Michael asked, “I get it's a hassle to close, but have you seen the property value it adds?” Samantha just replied, “Ugh, demons are such bad tenants.”\"), Card(line=9, content='9. Every night, Vivien’s psychic powers would keep her awake because she could hear the moon whistling show tunes. One night, in frustration, she yelled out the window, “If you can hear me, give it a rest! Try an original number!”'), Card(line=10, content=\"10. During a particularly potent full moon, Nick inexplicably turned into a plush unicorn, much to his chagrin. Wiggling helplessly on Samantha's bed, he growled, “Well, at least now I’m someone’s favorite stuffed ex-boyfriend!”\")]}\n"
     ]
    }
   ],
   "source": [
    "result_dict=dict(result)\n",
    "print(result_dict)\n",
    "# need to create a json.JSONEncoder for Card type\n",
    "# json.dumps(result_dict, indent=2)"
   ]
  },
  {
   "cell_type": "code",
   "execution_count": null,
   "id": "aac3e42f-b638-420a-a9ab-af80ff0a7d59",
   "metadata": {},
   "outputs": [],
   "source": []
  },
  {
   "cell_type": "code",
   "execution_count": null,
   "id": "4d4b5f1c-2c5b-49f4-8626-f315b5f1ef6d",
   "metadata": {},
   "outputs": [],
   "source": []
  }
 ],
 "metadata": {
  "kernelspec": {
   "display_name": "Python 3 (ipykernel)",
   "language": "python",
   "name": "python3"
  },
  "language_info": {
   "codemirror_mode": {
    "name": "ipython",
    "version": 3
   },
   "file_extension": ".py",
   "mimetype": "text/x-python",
   "name": "python",
   "nbconvert_exporter": "python",
   "pygments_lexer": "ipython3",
   "version": "3.12.4"
  }
 },
 "nbformat": 4,
 "nbformat_minor": 5
}
