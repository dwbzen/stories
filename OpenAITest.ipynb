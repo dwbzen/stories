{
 "cells": [
  {
   "cell_type": "code",
   "execution_count": 1,
   "id": "e6c835ed",
   "metadata": {},
   "outputs": [],
   "source": [
    "# OpenAI API testing\n",
    "import json\n",
    "from pathlib import Path\n",
    "import pandas as pd\n",
    "from typing import Dict, List\n",
    "import sys\n",
    "from openai import OpenAI"
   ]
  },
  {
   "cell_type": "code",
   "execution_count": 4,
   "id": "85e16c95",
   "metadata": {},
   "outputs": [
    {
     "name": "stdout",
     "output_type": "stream",
     "text": [
      "ChatCompletionMessage(content='In the land of code, where logic’s spun,\\nThere lies a tale of recursion begun.\\nA wondrous loop of self and might,\\nA function calls itself in flight.\\n\\nImagine a mirror reflecting deep,\\nEach image within, a secret to keep.\\nSo too, in code, when tasks recur,\\nRecursion makes solutions pure.\\n\\nA task too grand for one alone,\\nIs split and diced, from known to unknown.\\nA function called to solve its piece,\\nCalls itself, and will not cease—\\n\\nTill base case looms, a halting dawn,\\nWhere echoes fade, recursion gone.\\nA puzzle solved with recursive art,\\nEach piece a call, each call a part.\\n\\nDivide and conquer, the mantra here,\\nWith elegance, the path made clear.\\nFor Fibonacci, trees, and more,\\nRecursion opens a powerful door.\\n\\nSo heed this tale, let logic ride,\\nWhere function calls in nested tide.\\nIn the heart of loops, in mind’s expanse,\\nRecursion leads the coding dance.', role='assistant', function_call=None, tool_calls=None)\n"
     ]
    }
   ],
   "source": [
    "client = OpenAI()\n",
    "\n",
    "completion = client.chat.completions.create(\n",
    "  model=\"gpt-4o\",\n",
    "  messages=[\n",
    "    {\"role\": \"system\", \"content\": \"You are a poetic assistant, skilled in explaining complex programming concepts with creative flair.\"},\n",
    "    {\"role\": \"user\", \"content\": \"Compose a poem that explains the concept of recursion in programming.\"}\n",
    "  ]\n",
    ")\n",
    "msg = completion.choices[0].message\n",
    "print(msg.content)\n"
   ]
  },
  {
   "cell_type": "code",
   "execution_count": null,
   "id": "b21e3268",
   "metadata": {},
   "outputs": [],
   "source": []
  },
  {
   "cell_type": "code",
   "execution_count": null,
   "id": "dd6d533d",
   "metadata": {},
   "outputs": [],
   "source": []
  }
 ],
 "metadata": {
  "kernelspec": {
   "display_name": "Python 3 (ipykernel)",
   "language": "python",
   "name": "python3"
  },
  "language_info": {
   "codemirror_mode": {
    "name": "ipython",
    "version": 3
   },
   "file_extension": ".py",
   "mimetype": "text/x-python",
   "name": "python",
   "nbconvert_exporter": "python",
   "pygments_lexer": "ipython3",
   "version": "3.11.3"
  }
 },
 "nbformat": 4,
 "nbformat_minor": 5
}
