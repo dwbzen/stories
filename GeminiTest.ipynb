{
 "cells": [
  {
   "cell_type": "markdown",
   "id": "7cf811e7",
   "metadata": {},
   "source": [
    "### Google Gemini test"
   ]
  },
  {
   "cell_type": "code",
   "execution_count": 3,
   "id": "db686417",
   "metadata": {},
   "outputs": [],
   "source": [
    "# !pip list"
   ]
  },
  {
   "cell_type": "code",
   "execution_count": 1,
   "id": "c44655f5",
   "metadata": {},
   "outputs": [],
   "source": [
    "# Import the Python SDK\n",
    "import google.generativeai as genai\n",
    "import os\n",
    "\n",
    "# Used to securely store your API key - for Collab notebooks\n",
    "# from google.colab import userdata\n",
    "GOOGLE_API_KEY=os.environ[\"GEMINI_API_KEY\"]\n",
    "\n",
    "genai.configure(api_key=GOOGLE_API_KEY)\n",
    "model = genai.GenerativeModel('gemini-1.5-flash')"
   ]
  },
  {
   "cell_type": "code",
   "execution_count": 2,
   "id": "e2d40dd2",
   "metadata": {},
   "outputs": [
    {
     "name": "stdout",
     "output_type": "stream",
     "text": [
      "1. The flickering gaslight cast long, skeletal shadows across the cobblestone street.  A chilling wind whispered through the alleyways, carrying with it the stench of decay and something else… something metallic and faintly sweet.  I tried to ignore it, but a low growl echoed from the darkness behind me, a sound that seemed to vibrate in my very bones.\n",
      "\n",
      "2. \"Did you hear that?\" Cheryl whispered, her voice barely audible above the rhythmic creak of the old house. Brian, ever the skeptic, scoffed. \"It's just the wind, Cheryl.  You're letting your imagination run wild.\" Don, however, gripped his flashlight tighter, his knuckles white.  Beth didn't say anything, but her eyes were wide with a terror that mirrored his own.\n",
      "\n",
      "3.  The antique mirror reflected not my own face, but a grotesque parody—a decaying visage with eyes that burned with an unholy light.  A raspy voice, emanating from the glass itself, hissed my name.  I stumbled back, heart pounding, as the reflection reached out a skeletal hand, its touch icy and impossibly real.\n",
      "\n",
      "4.  \"It's following us,\" Beth choked out, her gaze fixed on the swirling mist that clung to the edges of the forest.  Don pulled her closer, his hand trembling as he gripped her arm.  \"We need to get out of here,\" Brian urged, his voice laced with a fear he desperately tried to hide. Cheryl just pointed, a silent scream trapped in her wide, terrified eyes.  The mist closed in.\n",
      "\n",
      "5.  The doll's eyes followed me, even as I turned away.  Its porcelain face, once cute and innocent, was now cracked and stained with what looked suspiciously like dried blood. A giggle, high-pitched and chilling, echoed from the corner of the room.  I knew, with a certainty that froze my blood, that it wasn't alone.\n",
      "\n"
     ]
    }
   ],
   "source": [
    "prompt=\"Create 5 compelling horror story snippets. Each snippet is 3 to 5 sentences long and may include dialogue.  Snippets that have dialogue include 2 or more the following four characters:  Don, Cheryl, Brian and Beth. Include a line number for each snippet starting at 1.\"\n",
    "response = model.generate_content(prompt)\n",
    "print(response.text)"
   ]
  },
  {
   "cell_type": "code",
   "execution_count": 3,
   "id": "c2e7fd6e-25af-4bb8-b9e1-4e7d9d0dde08",
   "metadata": {},
   "outputs": [
    {
     "name": "stdout",
     "output_type": "stream",
     "text": [
      "<class 'google.generativeai.types.generation_types.GenerateContentResponse'>\n"
     ]
    },
    {
     "data": {
      "text/plain": [
       "{'candidates': [{'content': {'parts': [{'text': '1. The flickering gaslight cast long, skeletal shadows across the cobblestone street.  A chilling wind whispered through the alleyways, carrying with it the stench of decay and something else… something metallic and faintly sweet.  I tried to ignore it, but a low growl echoed from the darkness behind me, a sound that seemed to vibrate in my very bones.\\n\\n2. \"Did you hear that?\" Cheryl whispered, her voice barely audible above the rhythmic creak of the old house. Brian, ever the skeptic, scoffed. \"It\\'s just the wind, Cheryl.  You\\'re letting your imagination run wild.\" Don, however, gripped his flashlight tighter, his knuckles white.  Beth didn\\'t say anything, but her eyes were wide with a terror that mirrored his own.\\n\\n3.  The antique mirror reflected not my own face, but a grotesque parody—a decaying visage with eyes that burned with an unholy light.  A raspy voice, emanating from the glass itself, hissed my name.  I stumbled back, heart pounding, as the reflection reached out a skeletal hand, its touch icy and impossibly real.\\n\\n4.  \"It\\'s following us,\" Beth choked out, her gaze fixed on the swirling mist that clung to the edges of the forest.  Don pulled her closer, his hand trembling as he gripped her arm.  \"We need to get out of here,\" Brian urged, his voice laced with a fear he desperately tried to hide. Cheryl just pointed, a silent scream trapped in her wide, terrified eyes.  The mist closed in.\\n\\n5.  The doll\\'s eyes followed me, even as I turned away.  Its porcelain face, once cute and innocent, was now cracked and stained with what looked suspiciously like dried blood. A giggle, high-pitched and chilling, echoed from the corner of the room.  I knew, with a certainty that froze my blood, that it wasn\\'t alone.\\n'}],\n",
       "    'role': 'model'},\n",
       "   'finish_reason': 1,\n",
       "   'avg_logprobs': -0.307807127240278,\n",
       "   'safety_ratings': [],\n",
       "   'token_count': 0,\n",
       "   'grounding_attributions': []}],\n",
       " 'usage_metadata': {'prompt_token_count': 61,\n",
       "  'candidates_token_count': 403,\n",
       "  'total_token_count': 464,\n",
       "  'cached_content_token_count': 0}}"
      ]
     },
     "execution_count": 3,
     "metadata": {},
     "output_type": "execute_result"
    }
   ],
   "source": [
    "print(type(response))\n",
    "#dir(response)\n",
    "response.to_dict()"
   ]
  },
  {
   "cell_type": "code",
   "execution_count": null,
   "id": "c18c8e1a-322e-4b86-8279-a633884a5179",
   "metadata": {},
   "outputs": [],
   "source": []
  }
 ],
 "metadata": {
  "kernelspec": {
   "display_name": "Python 3 (ipykernel)",
   "language": "python",
   "name": "python3"
  },
  "language_info": {
   "codemirror_mode": {
    "name": "ipython",
    "version": 3
   },
   "file_extension": ".py",
   "mimetype": "text/x-python",
   "name": "python",
   "nbconvert_exporter": "python",
   "pygments_lexer": "ipython3",
   "version": "3.12.4"
  }
 },
 "nbformat": 4,
 "nbformat_minor": 5
}
