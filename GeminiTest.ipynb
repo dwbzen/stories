{
 "cells": [
  {
   "cell_type": "markdown",
   "id": "7cf811e7",
   "metadata": {},
   "source": [
    "### Google Gemini test"
   ]
  },
  {
   "cell_type": "code",
   "execution_count": 3,
   "id": "db686417",
   "metadata": {},
   "outputs": [],
   "source": [
    "# !pip list"
   ]
  },
  {
   "cell_type": "code",
   "execution_count": 3,
   "id": "c44655f5",
   "metadata": {},
   "outputs": [],
   "source": [
    "# Import the Python SDK\n",
    "import google.generativeai as genai\n",
    "import os\n",
    "\n",
    "# Used to securely store your API key - for Collab notebooks\n",
    "# from google.colab import userdata\n",
    "GOOGLE_API_KEY=os.environ[\"API_KEY\"]\n",
    "\n",
    "genai.configure(api_key=GOOGLE_API_KEY)\n",
    "model = genai.GenerativeModel('gemini-1.5-flash')"
   ]
  },
  {
   "cell_type": "code",
   "execution_count": 4,
   "id": "e2d40dd2",
   "metadata": {},
   "outputs": [
    {
     "name": "stdout",
     "output_type": "stream",
     "text": [
      "1. The old house groaned around them, each creak a skeletal fingernail scraping across a chalkboard.  Dust motes danced in the slivers of moonlight piercing the boarded-up windows, illuminated by a malevolent glow emanating from the cellar.  Don whispered, \"I told you we shouldn't have come,\" his voice barely audible above the rhythmic thump-thump-thump echoing from below.\n",
      "\n",
      "2. Beth clutched her flashlight, its beam cutting through the oppressive darkness of the woods. \"Did you hear that?\" she breathed, her voice trembling.  Brian, ever the skeptic, scoffed, \"It's just an owl, Beth. Relax.\" But Cheryl, her face pale, only tightened her grip on Brian's arm, her eyes wide with unspoken terror.\n",
      "\n",
      "3.  A single, blood-red eye opened in the darkness of the closet.  It observed them – Don, Cheryl, and Brian – silently, judging.  Cheryl gasped, stumbling backward as a low growl rumbled from within the confining space.  \"Get out,\" Don hissed, his voice tight with a primal fear.\n",
      "\n",
      "4.  The antique mirror reflected not their faces, but twisted, grotesque parodies of themselves, their smiles widening into rictus grins that threatened to split their skin.  \"This isn't funny, Beth,\" Brian stammered, backing away from the chilling reflection.  The laughter started softly, then swelled to a deafening chorus from within the glass.\n",
      "\n",
      "5.  He smelled it first – the metallic tang of blood, sharp and acrid, clinging to the air like a shroud.  Don’s heart hammered against his ribs. \"Cheryl, is that…?\" he began, but his question died in his throat as a hand – cold, clammy, and undeniably inhuman – reached out from behind the curtain.\n",
      "\n"
     ]
    }
   ],
   "source": [
    "prompt=\"Create 5 compelling horror story snippets. Each snippet is 3 to 5 sentences long and may include dialogue.  Snippets that have dialogue include 2 or more the following four characters:  Don, Cheryl, Brian and Beth. Include a line number for each snippet starting at 1.\"\n",
    "response = model.generate_content(prompt)\n",
    "print(response.text)"
   ]
  },
  {
   "cell_type": "code",
   "execution_count": 8,
   "id": "c2e7fd6e-25af-4bb8-b9e1-4e7d9d0dde08",
   "metadata": {},
   "outputs": [
    {
     "name": "stdout",
     "output_type": "stream",
     "text": [
      "<class 'google.generativeai.types.generation_types.GenerateContentResponse'>\n"
     ]
    },
    {
     "data": {
      "text/plain": [
       "{'candidates': [{'content': {'parts': [{'text': '1.  The flickering gaslight cast long, skeletal shadows across the cobblestone street.  A chilling wind whispered secrets only the dead understood, swirling fallen leaves into grotesque, swirling shapes.  Then, a guttural moan echoed from the alleyway – a sound that seemed to claw its way into the very marrow of my bones.\\n\\n\\n2. \"Did you hear that?\" Cheryl whispered, her voice barely audible above the pounding of her own heart. Brian, his face pale as moonlight, nodded silently. Don scoffed, \"It\\'s just the wind, you two are being ridiculous.\"  Beth, however, gripped his arm, eyes wide with unspoken terror.\\n\\n\\n3.  The antique mirror reflected not my own face, but a distorted, decaying visage – eyes like black pits, a rictus grin splitting a ravaged mouth.  I screamed, the sound swallowed by the oppressive silence of the room.  My reflection blinked, then the grin widened, a single, sharp tooth piercing its decomposing lip.\\n\\n\\n4. \"It\\'s following us,\" Beth choked out, her breath catching in her throat. Don swore, clutching the rusty pipe in his hand. Brian stumbled, nearly falling.  Cheryl, her face a mask of horrified certainty, pointed a trembling finger down the darkened road, \"There… in the trees.\"\\n\\n\\n5.  The scratching started softly, a mere whisper against the decaying wood of the floorboards.  It grew steadily louder, more insistent, until it was a frenzied clawing, a desperate struggle to break through.  Then, silence – a silence far more terrifying than the sound.\\n'}],\n",
       "    'role': 'model'},\n",
       "   'finish_reason': 1,\n",
       "   'avg_logprobs': -0.5275292598839962,\n",
       "   'safety_ratings': [],\n",
       "   'token_count': 0,\n",
       "   'grounding_attributions': []}],\n",
       " 'usage_metadata': {'prompt_token_count': 61,\n",
       "  'candidates_token_count': 330,\n",
       "  'total_token_count': 391,\n",
       "  'cached_content_token_count': 0}}"
      ]
     },
     "execution_count": 8,
     "metadata": {},
     "output_type": "execute_result"
    }
   ],
   "source": [
    "print(type(response))\n",
    "#dir(response)\n",
    "response.to_dict()"
   ]
  },
  {
   "cell_type": "code",
   "execution_count": null,
   "id": "c18c8e1a-322e-4b86-8279-a633884a5179",
   "metadata": {},
   "outputs": [],
   "source": []
  }
 ],
 "metadata": {
  "kernelspec": {
   "display_name": "Python 3 (ipykernel)",
   "language": "python",
   "name": "python3"
  },
  "language_info": {
   "codemirror_mode": {
    "name": "ipython",
    "version": 3
   },
   "file_extension": ".py",
   "mimetype": "text/x-python",
   "name": "python",
   "nbconvert_exporter": "python",
   "pygments_lexer": "ipython3",
   "version": "3.12.4"
  }
 },
 "nbformat": 4,
 "nbformat_minor": 5
}
