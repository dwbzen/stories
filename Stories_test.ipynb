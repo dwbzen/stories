{
 "cells": [
  {
   "cell_type": "code",
   "execution_count": 1,
   "id": "76c58188",
   "metadata": {},
   "outputs": [
    {
     "data": {
      "text/plain": [
       "['__all__',\n",
       " '__author__',\n",
       " '__builtins__',\n",
       " '__cached__',\n",
       " '__doc__',\n",
       " '__file__',\n",
       " '__loader__',\n",
       " '__name__',\n",
       " '__package__',\n",
       " '__path__',\n",
       " '__spec__',\n",
       " '__version__',\n",
       " 'absolute_import',\n",
       " 'game',\n",
       " 'server',\n",
       " 'test']"
      ]
     },
     "execution_count": 1,
     "metadata": {},
     "output_type": "execute_result"
    }
   ],
   "source": [
    "import json\n",
    "from pathlib import Path\n",
    "import pandas as pd\n",
    "from typing import Dict, List\n",
    "import sys\n",
    "import random\n",
    "import stories\n",
    "dir(stories)"
   ]
  },
  {
   "cell_type": "code",
   "execution_count": 2,
   "id": "8149e398",
   "metadata": {},
   "outputs": [
    {
     "data": {
      "text/plain": [
       "['C:\\\\Compile\\\\dwbzen\\\\dwbzen',\n",
       " 'C:\\\\Users\\\\dwbze\\\\OneDrive\\\\Documents\\\\Compile\\\\portals',\n",
       " 'C:\\\\Users\\\\dwbze\\\\OneDrive\\\\Documents\\\\Compile\\\\portals\\\\portals',\n",
       " 'C:\\\\Users\\\\dwbze\\\\OneDrive\\\\Documents\\\\Compile\\\\stories',\n",
       " 'C:\\\\Users\\\\dwbze\\\\OneDrive\\\\Documents\\\\Compile\\\\stories\\\\stories',\n",
       " 'C:\\\\Compile\\\\dwbzen',\n",
       " 'C:\\\\Users\\\\dwbze\\\\AppData\\\\Local\\\\Programs\\\\Python\\\\Python312\\\\python312.zip',\n",
       " 'C:\\\\Users\\\\dwbze\\\\AppData\\\\Local\\\\Programs\\\\Python\\\\Python312\\\\DLLs',\n",
       " 'C:\\\\Users\\\\dwbze\\\\AppData\\\\Local\\\\Programs\\\\Python\\\\Python312\\\\Lib',\n",
       " 'C:\\\\Users\\\\dwbze\\\\AppData\\\\Local\\\\Programs\\\\Python\\\\Python312',\n",
       " 'C:\\\\Users\\\\dwbze\\\\OneDrive\\\\Documents\\\\Compile\\\\stories\\\\pyenv',\n",
       " '',\n",
       " 'C:\\\\Users\\\\dwbze\\\\OneDrive\\\\Documents\\\\Compile\\\\stories\\\\pyenv\\\\Lib\\\\site-packages',\n",
       " 'C:\\\\Users\\\\dwbze\\\\OneDrive\\\\Documents\\\\Compile\\\\stories\\\\pyenv\\\\Lib\\\\site-packages\\\\win32',\n",
       " 'C:\\\\Users\\\\dwbze\\\\OneDrive\\\\Documents\\\\Compile\\\\stories\\\\pyenv\\\\Lib\\\\site-packages\\\\win32\\\\lib',\n",
       " 'C:\\\\Users\\\\dwbze\\\\OneDrive\\\\Documents\\\\Compile\\\\stories\\\\pyenv\\\\Lib\\\\site-packages\\\\Pythonwin']"
      ]
     },
     "execution_count": 2,
     "metadata": {},
     "output_type": "execute_result"
    }
   ],
   "source": [
    "sys.path"
   ]
  },
  {
   "cell_type": "code",
   "execution_count": 3,
   "id": "0514f9d7",
   "metadata": {},
   "outputs": [
    {
     "data": {
      "text/plain": [
       "['ActionCard',\n",
       " 'ActionCardDeck',\n",
       " 'ActionClass',\n",
       " 'ActionSpecialProcessingType',\n",
       " 'ActionType',\n",
       " 'BoardLocation',\n",
       " 'BorderSquare',\n",
       " 'BorderSquareType',\n",
       " 'CardDeck',\n",
       " 'CareersGame',\n",
       " 'CareersGameEngine',\n",
       " 'CareersObject',\n",
       " 'CommandResult',\n",
       " 'ExperienceCard',\n",
       " 'ExperienceCardDeck',\n",
       " 'ExperienceCardType',\n",
       " 'GameBoard',\n",
       " 'GameEngineCommands',\n",
       " 'GameParameters',\n",
       " 'GameParametersType',\n",
       " 'GameRunner',\n",
       " 'GameSquare',\n",
       " 'GameSquareClass',\n",
       " 'GameState',\n",
       " 'GameType',\n",
       " 'GameUtils',\n",
       " 'GatewayCard',\n",
       " 'GatewayCardDeck',\n",
       " 'Logger',\n",
       " 'Occupation',\n",
       " 'OccupationSquare',\n",
       " 'OccupationSquareType',\n",
       " 'PendingAction',\n",
       " 'PendingActionType',\n",
       " 'PendingActions',\n",
       " 'Player',\n",
       " 'PlayerGameHistory',\n",
       " 'PlayerHistory',\n",
       " 'PlayerProfile',\n",
       " 'PlayerType',\n",
       " 'SpecialProcessing',\n",
       " 'SpecialProcessingType',\n",
       " 'SuccessFormula',\n",
       " 'TodoList',\n",
       " '__all__',\n",
       " '__author__',\n",
       " '__author_email__',\n",
       " '__builtins__',\n",
       " '__cached__',\n",
       " '__copyright__',\n",
       " '__description__',\n",
       " '__doc__',\n",
       " '__file__',\n",
       " '__license__',\n",
       " '__loader__',\n",
       " '__name__',\n",
       " '__package__',\n",
       " '__path__',\n",
       " '__spec__',\n",
       " '__title__',\n",
       " '__version__',\n",
       " 'absolute_import',\n",
       " 'actionCard',\n",
       " 'actionCardAttack',\n",
       " 'actionCardDeck',\n",
       " 'boardLocation',\n",
       " 'borderSquare',\n",
       " 'cardDeck',\n",
       " 'careersGame',\n",
       " 'careersGameEngine',\n",
       " 'careersObject',\n",
       " 'commandResult',\n",
       " 'environment',\n",
       " 'experienceCard',\n",
       " 'experienceCardDeck',\n",
       " 'experienceCardType',\n",
       " 'gameBoard',\n",
       " 'gameConstants',\n",
       " 'gameEngineCommands',\n",
       " 'gameParameters',\n",
       " 'gameRunner',\n",
       " 'gameSquare',\n",
       " 'gameState',\n",
       " 'gameUtils',\n",
       " 'gatewayCard',\n",
       " 'gatewayCardDeck',\n",
       " 'logger',\n",
       " 'occupation',\n",
       " 'occupationSquare',\n",
       " 'pendingAction',\n",
       " 'pendingActions',\n",
       " 'player',\n",
       " 'playerGameHistory',\n",
       " 'playerHistory',\n",
       " 'playerProfile',\n",
       " 'specialProcessing',\n",
       " 'successFormula',\n",
       " 'todoList',\n",
       " 'turnHistory']"
      ]
     },
     "execution_count": 3,
     "metadata": {},
     "output_type": "execute_result"
    }
   ],
   "source": [
    "dir(stories.game)"
   ]
  },
  {
   "cell_type": "code",
   "execution_count": 14,
   "id": "6be495e3",
   "metadata": {},
   "outputs": [
    {
     "data": {
      "text/plain": [
       "['C:\\\\Users\\\\dwbze\\\\OneDrive\\\\Documents\\\\Compile\\\\stories',\n",
       " 'C:\\\\Compile\\\\dwbzen\\\\dwbzen',\n",
       " 'C:\\\\Users\\\\dwbze\\\\OneDrive\\\\Documents\\\\Compile\\\\portals',\n",
       " 'C:\\\\Users\\\\dwbze\\\\OneDrive\\\\Documents\\\\Compile\\\\portals\\\\careers',\n",
       " 'C:\\\\Users\\\\dwbze\\\\OneDrive\\\\Documents\\\\Compile\\\\stories',\n",
       " 'C:\\\\Users\\\\dwbze\\\\OneDrive\\\\Documents\\\\Compile\\\\stories\\\\stories',\n",
       " 'C:\\\\Users\\\\dwbze\\\\AppData\\\\Local\\\\Programs\\\\Python\\\\Python311\\\\python311.zip',\n",
       " 'C:\\\\Users\\\\dwbze\\\\AppData\\\\Local\\\\Programs\\\\Python\\\\Python311\\\\DLLs',\n",
       " 'C:\\\\Users\\\\dwbze\\\\AppData\\\\Local\\\\Programs\\\\Python\\\\Python311\\\\Lib',\n",
       " 'C:\\\\Users\\\\dwbze\\\\AppData\\\\Local\\\\Programs\\\\Python\\\\Python311',\n",
       " 'C:\\\\python\\\\dwbzen11',\n",
       " '',\n",
       " 'C:\\\\python\\\\dwbzen11\\\\Lib\\\\site-packages',\n",
       " 'C:\\\\python\\\\dwbzen11\\\\Lib\\\\site-packages\\\\win32',\n",
       " 'C:\\\\python\\\\dwbzen11\\\\Lib\\\\site-packages\\\\win32\\\\lib',\n",
       " 'C:\\\\python\\\\dwbzen11\\\\Lib\\\\site-packages\\\\Pythonwin',\n",
       " 'C:\\\\Users\\\\dwbze\\\\OneDrive\\\\Documents\\\\Compile\\\\stories\\\\game']"
      ]
     },
     "execution_count": 14,
     "metadata": {},
     "output_type": "execute_result"
    }
   ],
   "source": [
    "sys.path"
   ]
  },
  {
   "cell_type": "code",
   "execution_count": null,
   "id": "68b438ad",
   "metadata": {},
   "outputs": [],
   "source": []
  },
  {
   "cell_type": "code",
   "execution_count": null,
   "id": "9a8b7772",
   "metadata": {},
   "outputs": [],
   "source": [
    "\n",
    "from stories.game.storiesObject import StoriesObject\n",
    "from stories.game.gameConstants import GenreType,GameParametersType, GameConstants, ActionType, CardType, GenreFilenames\n",
    "\n",
    "from stories.game.gameUtils import GameUtils\n",
    "from stories.game.storyCard import StoryCard\n",
    "from stories.game.cardDeck import CardDeck"
   ]
  },
  {
   "cell_type": "code",
   "execution_count": 23,
   "id": "39d31745",
   "metadata": {},
   "outputs": [
    {
     "data": {
      "text/plain": [
       "[0, 1, 2, 3, 4, 5, 6, 7, 8, 9]"
      ]
     },
     "execution_count": 23,
     "metadata": {},
     "output_type": "execute_result"
    }
   ],
   "source": [
    "[x for x in range(10)]"
   ]
  },
  {
   "cell_type": "code",
   "execution_count": 14,
   "id": "1fbdf609",
   "metadata": {},
   "outputs": [],
   "source": [
    "resource_folder = \"/Users/dwbze/OneDrive/Documents/Compile/stories/resources\"\n",
    "occupations_filename = f'{resource_folder}/story_cards_template.json'\n",
    "\n",
    "with open(occupations_filename, \"r\") as fp:\n",
    "    jtxt = fp.read()\n",
    "    template_dict = json.loads(jtxt)\n",
    "fp.close()"
   ]
  },
  {
   "cell_type": "code",
   "execution_count": 15,
   "id": "50e09a0d",
   "metadata": {},
   "outputs": [
    {
     "data": {
      "text/plain": [
       "{'Help': 'Samples only. Cards are loaded from genre text files',\n",
       " 'Title': [{'number': 0,\n",
       "   'genre': 'Horror',\n",
       "   'card_type': 'Title',\n",
       "   'text': 'Haunting Refrains of the Damned'},\n",
       "  {'number': 1,\n",
       "   'genre': 'Horror',\n",
       "   'card_type': 'Title',\n",
       "   'text': 'Heartbeat of the Hellish Drum'}],\n",
       " 'Opening': [{'number': 0,\n",
       "   'genre': 'Horror',\n",
       "   'card_type': 'Opening',\n",
       "   'text': 'The old house on the hill had been abandoned for decades, but something inside still whispered in the darkness.'},\n",
       "  {'number': 1,\n",
       "   'genre': 'Horror',\n",
       "   'card_type': 'Opening',\n",
       "   'text': 'The forest was quiet, except for the sound of footsteps that seemed to follow Samantha wherever she went.'}],\n",
       " 'Opening/Story': [{'number': 0,\n",
       "   'genre': 'Horror',\n",
       "   'card_type': 'Opening/Story',\n",
       "   'text': 'The old house on the hill had been abandoned for decades, but something inside still whispered in the darkness.'},\n",
       "  {'number': 1,\n",
       "   'genre': 'Horror',\n",
       "   'card_type': 'Opening/Story',\n",
       "   'text': 'The forest was quiet, except for the sound of footsteps that seemed to follow Samantha wherever she went.'}],\n",
       " 'Story': [],\n",
       " 'Closing': []}"
      ]
     },
     "execution_count": 15,
     "metadata": {},
     "output_type": "execute_result"
    }
   ],
   "source": [
    "template_dict[\"cards\"]"
   ]
  },
  {
   "cell_type": "code",
   "execution_count": 16,
   "id": "e342ea50-56bc-4d3c-8f84-4fc07c7f3b1b",
   "metadata": {},
   "outputs": [
    {
     "data": {
      "text/plain": [
       "'Template story card deck.'"
      ]
     },
     "execution_count": 16,
     "metadata": {},
     "output_type": "execute_result"
    }
   ],
   "source": [
    "template_dict[\"Help\"]"
   ]
  },
  {
   "cell_type": "code",
   "execution_count": 17,
   "id": "f3887fa1",
   "metadata": {},
   "outputs": [
    {
     "data": {
      "text/plain": [
       "[{'number': 0,\n",
       "  'genre': 'Horror',\n",
       "  'card_type': 'Title',\n",
       "  'text': 'Haunting Refrains of the Damned'},\n",
       " {'number': 1,\n",
       "  'genre': 'Horror',\n",
       "  'card_type': 'Title',\n",
       "  'text': 'Heartbeat of the Hellish Drum'}]"
      ]
     },
     "execution_count": 17,
     "metadata": {},
     "output_type": "execute_result"
    }
   ],
   "source": [
    "template_dict[\"cards\"][\"Title\"]"
   ]
  },
  {
   "cell_type": "code",
   "execution_count": 18,
   "id": "3b5b61df",
   "metadata": {},
   "outputs": [
    {
     "data": {
      "text/plain": [
       "{'number': 1,\n",
       " 'genre': 'Horror',\n",
       " 'card_type': 'Title',\n",
       " 'text': 'Heartbeat of the Hellish Drum'}"
      ]
     },
     "execution_count": 18,
     "metadata": {},
     "output_type": "execute_result"
    }
   ],
   "source": [
    "template_dict[\"cards\"][\"Title\"][1]"
   ]
  },
  {
   "cell_type": "code",
   "execution_count": 19,
   "id": "9adbb48a",
   "metadata": {},
   "outputs": [
    {
     "data": {
      "text/plain": [
       "['Title', 'Opening', 'Opening/Story', 'Story', 'Closing']"
      ]
     },
     "execution_count": 19,
     "metadata": {},
     "output_type": "execute_result"
    }
   ],
   "source": [
    "template_dict[\"card_types_list\"]"
   ]
  },
  {
   "cell_type": "code",
   "execution_count": 20,
   "id": "37558b50",
   "metadata": {},
   "outputs": [],
   "source": [
    "genre = GenreType.HORROR.value.title()\n",
    "template = template_dict\n",
    "deck = {\"Help\" : f\"{genre} story card deck.\"}\n",
    "deck[\"card_types_list\"] = template[\"card_types_list\"]\n",
    "deck[\"action_types_list\"] = template[\"action_types_list\"]\n",
    "deck[\"card_types\"] = template[\"card_types\"]\n",
    "deck[\"action_types\"] = template[\"action_types\"]"
   ]
  },
  {
   "cell_type": "code",
   "execution_count": 31,
   "id": "a44c350a",
   "metadata": {},
   "outputs": [],
   "source": [
    "# print(json.dumps(deck, indent=2))"
   ]
  },
  {
   "cell_type": "code",
   "execution_count": 15,
   "id": "18a7f26c",
   "metadata": {},
   "outputs": [],
   "source": [
    "import json\n",
    "class Foo(object):\n",
    "    def __init__(self, number=1, name=\"myname\"):\n",
    "        self.number = number\n",
    "        self.name = name\n",
    "    \n",
    "    def to_dict(self)->dict:\n",
    "        return {\"number\":self.number, \"name\":self.name}\n",
    "\n",
    "    def __str__(self):\n",
    "        return json.dumps(self.to_dict())"
   ]
  },
  {
   "cell_type": "code",
   "execution_count": 16,
   "id": "25465189-ba85-4336-b696-d5ed67fb028b",
   "metadata": {},
   "outputs": [],
   "source": [
    "flist = [Foo(number, f\"name{number}\") for number in range(5)]"
   ]
  },
  {
   "cell_type": "code",
   "execution_count": 19,
   "id": "df0f8d4e-0674-439b-919a-5b56e5df1f1d",
   "metadata": {},
   "outputs": [
    {
     "data": {
      "text/plain": [
       "'{\"number\": 3, \"name\": \"name3\"}'"
      ]
     },
     "execution_count": 19,
     "metadata": {},
     "output_type": "execute_result"
    }
   ],
   "source": [
    "str(flist[3])"
   ]
  },
  {
   "cell_type": "code",
   "execution_count": 20,
   "id": "8226be82",
   "metadata": {},
   "outputs": [],
   "source": [
    "xlist = []\n",
    "xlist.append(flist[3])\n",
    "del flist[3]"
   ]
  },
  {
   "cell_type": "code",
   "execution_count": 22,
   "id": "4a2569bb",
   "metadata": {},
   "outputs": [
    {
     "data": {
      "text/plain": [
       "'{\"number\": 3, \"name\": \"name3\"}'"
      ]
     },
     "execution_count": 22,
     "metadata": {},
     "output_type": "execute_result"
    }
   ],
   "source": [
    "str(xlist[0])"
   ]
  },
  {
   "cell_type": "code",
   "execution_count": 23,
   "id": "cb3596d9",
   "metadata": {},
   "outputs": [
    {
     "data": {
      "text/plain": [
       "4"
      ]
     },
     "execution_count": 23,
     "metadata": {},
     "output_type": "execute_result"
    }
   ],
   "source": [
    "len(flist)"
   ]
  },
  {
   "cell_type": "code",
   "execution_count": 25,
   "id": "07c3f3e9",
   "metadata": {},
   "outputs": [
    {
     "data": {
      "text/plain": [
       "'{\"number\": 4, \"name\": \"name4\"}'"
      ]
     },
     "execution_count": 25,
     "metadata": {},
     "output_type": "execute_result"
    }
   ],
   "source": [
    "str(flist[3])"
   ]
  },
  {
   "cell_type": "code",
   "execution_count": 6,
   "id": "7f646d6f",
   "metadata": {},
   "outputs": [],
   "source": [
    "\n",
    "def shuffle(size:int) -> List[int]:\n",
    "    \"\"\"Returns a random sample of the integers from 0 to size-1.\n",
    "        This represents a shuffle of indexes of some list.\n",
    "        For example, shuffle(5) could return [0, 4, 1, 2, 3]\n",
    "        Returns an empty List if size==0\n",
    "    \"\"\"\n",
    "    return random.sample(list(range(0, size)), size) if size>0 else []\n",
    "\n",
    "@staticmethod\n",
    "def roll(number_of_dice)->List[int]:\n",
    "    return random.choices(population=[1,2,3,4,5,6],k=number_of_dice)"
   ]
  },
  {
   "cell_type": "code",
   "execution_count": 10,
   "id": "e23acece",
   "metadata": {},
   "outputs": [
    {
     "name": "stdout",
     "output_type": "stream",
     "text": [
      "rwlelfaes\n",
      "fllreewas\n",
      "efewalrls\n",
      "rleelwafs\n",
      "lfrweleas\n",
      "lfalewres\n",
      "fawrleles\n",
      "faewrlles\n",
      "elrealfws\n",
      "efwaelrls\n",
      "wlrafeels\n",
      "reelflwas\n",
      "lrlaewefs\n",
      "arwelfels\n",
      "fawlreels\n",
      "rweelalfs\n",
      "wfearlels\n",
      "flealewrs\n",
      "lwfelares\n",
      "flaewrels\n"
     ]
    }
   ],
   "source": [
    "txt = \"fewerall\"\n",
    "for i in range(20):\n",
    "    print(\"\".join([txt[ind] for ind in shuffle(len(txt))])+\"s\")"
   ]
  },
  {
   "cell_type": "code",
   "execution_count": 5,
   "id": "f47fec72",
   "metadata": {},
   "outputs": [],
   "source": [
    "from enum import Enum\n",
    "class CardType(Enum):\n",
    "    TITLE = \"Title\"\n",
    "    OPENING = \"Opening\"\n",
    "    OPENING_STORY = \"Opening/Story\"\n",
    "    STORY = \"Story\"\n",
    "    CLOSING = \"Closing\"\n",
    "    ACTION = \"Action\""
   ]
  },
  {
   "cell_type": "code",
   "execution_count": 9,
   "id": "ff05c058-5b44-4ec4-acd8-ddfc2b018cf0",
   "metadata": {},
   "outputs": [
    {
     "data": {
      "text/plain": [
       "['Title', 'Opening', 'Opening/Story', 'Story', 'Closing', 'Action']"
      ]
     },
     "execution_count": 9,
     "metadata": {},
     "output_type": "execute_result"
    }
   ],
   "source": [
    "[x.value for x in CardType]"
   ]
  },
  {
   "cell_type": "code",
   "execution_count": 11,
   "id": "4bb86921-1810-4ed0-aec0-d671473948b6",
   "metadata": {},
   "outputs": [
    {
     "data": {
      "text/plain": [
       "<CardType.OPENING: 'Opening'>"
      ]
     },
     "execution_count": 11,
     "metadata": {},
     "output_type": "execute_result"
    }
   ],
   "source": [
    "CardType[\"Opening\".upper()]"
   ]
  },
  {
   "cell_type": "code",
   "execution_count": null,
   "id": "2659e8ba-cac7-4902-933b-159f0634c300",
   "metadata": {},
   "outputs": [],
   "source": []
  }
 ],
 "metadata": {
  "kernelspec": {
   "display_name": "Python 3 (ipykernel)",
   "language": "python",
   "name": "python3"
  },
  "language_info": {
   "codemirror_mode": {
    "name": "ipython",
    "version": 3
   },
   "file_extension": ".py",
   "mimetype": "text/x-python",
   "name": "python",
   "nbconvert_exporter": "python",
   "pygments_lexer": "ipython3",
   "version": "3.12.4"
  }
 },
 "nbformat": 4,
 "nbformat_minor": 5
}
